{
  "cells": [
    {
      "cell_type": "markdown",
      "metadata": {},
      "source": [
        "https://public.roboflow.com/object-detection/aquarium"
      ]
    },
    {
      "cell_type": "markdown",
      "metadata": {
        "id": "L7pYcCoBFsBB"
      },
      "source": [
        "# <p style=\"font-family:JetBrains Mono; font-weight:bold; letter-spacing: 2px; color:#9c7606; font-size:140%; text-align:left;padding: 10px; border-bottom: 2px solid #f79a05\"> Import Libraries</p>"
      ]
    },
    {
      "cell_type": "code",
      "execution_count": null,
      "metadata": {
        "execution": {
          "iopub.execute_input": "2024-04-24T06:41:35.572918Z",
          "iopub.status.busy": "2024-04-24T06:41:35.572357Z",
          "iopub.status.idle": "2024-04-24T06:41:35.581545Z",
          "shell.execute_reply": "2024-04-24T06:41:35.580088Z",
          "shell.execute_reply.started": "2024-04-24T06:41:35.572850Z"
        },
        "id": "NH--_l9dFsBB",
        "trusted": true
      },
      "outputs": [],
      "source": [
        "import numpy as np\n",
        "import pandas as pd\n",
        "import cv2\n",
        "\n",
        "from sklearn.utils import shuffle\n",
        "from matplotlib.patches import Rectangle\n",
        "import matplotlib.pyplot as plt\n",
        "\n",
        "import warnings\n",
        "\n",
        "warnings.simplefilter('ignore')"
      ]
    },
    {
      "cell_type": "markdown",
      "metadata": {
        "id": "tScaCZwhFsBB"
      },
      "source": [
        "### <p style=\"font-family:JetBrains Mono; font-weight:bold; letter-spacing: 2px; color:#9c7606; font-size:140%; text-align:left;padding: 10px; border-bottom: 2px solid #f79a05\"> Load data</p>"
      ]
    },
    {
      "cell_type": "code",
      "execution_count": null,
      "metadata": {
        "execution": {
          "iopub.execute_input": "2024-04-24T06:41:35.590497Z",
          "iopub.status.busy": "2024-04-24T06:41:35.589465Z",
          "iopub.status.idle": "2024-04-24T06:41:35.774168Z",
          "shell.execute_reply": "2024-04-24T06:41:35.772936Z",
          "shell.execute_reply.started": "2024-04-24T06:41:35.590451Z"
        },
        "id": "XodCqQSTFsBB",
        "trusted": true
      },
      "outputs": [],
      "source": [
        "df = pd.read_csv('../input/self-driving-cars/labels_train.csv')\n",
        "df = shuffle(df)\n",
        "df.head()"
      ]
    },
    {
      "cell_type": "markdown",
      "metadata": {
        "id": "_fzsald_FsBC"
      },
      "source": [
        "<div style=\"border-radius:10px; border:#f79a05 solid; padding: 15px; background-color: #f5d77f; font-size:100%; text-align:left\">\n",
        "    \n",
        " * This dataset is mostly a practice and training aspect for the subject of YOLO. The data is labeled with 5 classes.\n",
        " * classic_id labels: 'car', 'truck', 'pedestrian', 'bicyclist', 'light'"
      ]
    },
    {
      "cell_type": "code",
      "execution_count": null,
      "metadata": {
        "execution": {
          "iopub.execute_input": "2024-04-24T06:41:35.777810Z",
          "iopub.status.busy": "2024-04-24T06:41:35.777348Z",
          "iopub.status.idle": "2024-04-24T06:41:35.788911Z",
          "shell.execute_reply": "2024-04-24T06:41:35.787609Z",
          "shell.execute_reply.started": "2024-04-24T06:41:35.777766Z"
        },
        "id": "8xp04mcbFsBC",
        "trusted": true
      },
      "outputs": [],
      "source": [
        "classes = df.class_id.unique()\n",
        "print(classes)"
      ]
    },
    {
      "cell_type": "code",
      "execution_count": null,
      "metadata": {
        "execution": {
          "iopub.execute_input": "2024-04-24T06:41:35.793182Z",
          "iopub.status.busy": "2024-04-24T06:41:35.790578Z",
          "iopub.status.idle": "2024-04-24T06:41:35.800157Z",
          "shell.execute_reply": "2024-04-24T06:41:35.798436Z",
          "shell.execute_reply.started": "2024-04-24T06:41:35.793126Z"
        },
        "id": "0Jjueu37FsBC",
        "trusted": true
      },
      "outputs": [],
      "source": [
        "labels = { 1:'car', 2:'truck', 3:'person', 4:'bicycle', 5:'traffic light'}"
      ]
    },
    {
      "cell_type": "markdown",
      "metadata": {
        "id": "pM2fmUqzFsBC"
      },
      "source": [
        "# <p style=\"font-family:JetBrains Mono; font-weight:bold; letter-spacing: 2px; color:#9c7606; font-size:140%; text-align:left;padding: 10px; border-bottom: 2px solid #f79a05\"> Show some labeled images</p>"
      ]
    },
    {
      "cell_type": "code",
      "execution_count": null,
      "metadata": {
        "execution": {
          "iopub.execute_input": "2024-04-24T06:41:35.802497Z",
          "iopub.status.busy": "2024-04-24T06:41:35.801746Z",
          "iopub.status.idle": "2024-04-24T06:41:35.932022Z",
          "shell.execute_reply": "2024-04-24T06:41:35.930925Z",
          "shell.execute_reply.started": "2024-04-24T06:41:35.802463Z"
        },
        "id": "UYspAEPiFsBC",
        "trusted": true
      },
      "outputs": [],
      "source": [
        "# Get path images and boxes (x,y) for each class_id\n",
        "boxes = {}\n",
        "images = {}\n",
        "\n",
        "base_path = '../input/self-driving-cars/images/'\n",
        "\n",
        "for class_id in classes:\n",
        "    first_row = df[df['class_id'] == class_id].iloc[0]\n",
        "\n",
        "    images[class_id] = cv2.imread(base_path + first_row['frame'])\n",
        "    boxes[class_id] = [first_row['xmin'],first_row['xmax'],first_row['ymin'],first_row['ymax']]"
      ]
    },
    {
      "cell_type": "code",
      "execution_count": null,
      "metadata": {
        "execution": {
          "iopub.execute_input": "2024-04-24T06:41:35.936078Z",
          "iopub.status.busy": "2024-04-24T06:41:35.935704Z",
          "iopub.status.idle": "2024-04-24T06:41:38.243353Z",
          "shell.execute_reply": "2024-04-24T06:41:38.241962Z",
          "shell.execute_reply.started": "2024-04-24T06:41:35.936045Z"
        },
        "id": "euaEcsqKFsBC",
        "trusted": true
      },
      "outputs": [],
      "source": [
        "for i in classes:\n",
        "\n",
        "    xmin, xmax, ymin, ymax = boxes[i][0], boxes[i][1], boxes[i][2], boxes[i][3]\n",
        "\n",
        "    plt.figure(figsize=(8, 10))\n",
        "    plt.title(\"Label \" + labels[i])\n",
        "    plt.imshow(images[i])\n",
        "    plt.gca().add_patch(plt.Rectangle((xmin, ymin), xmax-xmin, ymax-ymin, color='yellow', fill=False, linewidth=2))\n",
        "\n",
        "    plt.show()"
      ]
    },
    {
      "cell_type": "markdown",
      "metadata": {
        "id": "mpCp1zQbFsBC"
      },
      "source": [
        "# <p style=\"font-family:JetBrains Mono; font-weight:bold; letter-spacing: 2px; color:#9c7606; font-size:140%; text-align:left;padding: 10px; border-bottom: 2px solid #f79a05\"> Model</p>"
      ]
    },
    {
      "cell_type": "code",
      "execution_count": null,
      "metadata": {
        "_kg_hide-input": false,
        "_kg_hide-output": true,
        "execution": {
          "iopub.execute_input": "2024-04-24T06:41:38.245584Z",
          "iopub.status.busy": "2024-04-24T06:41:38.245130Z",
          "iopub.status.idle": "2024-04-24T06:41:55.608760Z",
          "shell.execute_reply": "2024-04-24T06:41:55.607121Z",
          "shell.execute_reply.started": "2024-04-24T06:41:38.245545Z"
        },
        "id": "zsqd4BlLFsBC",
        "trusted": true
      },
      "outputs": [],
      "source": [
        "!pip install ultralytics"
      ]
    },
    {
      "cell_type": "code",
      "execution_count": null,
      "metadata": {
        "execution": {
          "iopub.execute_input": "2024-04-24T06:41:55.611467Z",
          "iopub.status.busy": "2024-04-24T06:41:55.610972Z",
          "iopub.status.idle": "2024-04-24T06:41:59.265212Z",
          "shell.execute_reply": "2024-04-24T06:41:59.263923Z",
          "shell.execute_reply.started": "2024-04-24T06:41:55.611418Z"
        },
        "id": "ar2S6R6OFsBC",
        "trusted": true
      },
      "outputs": [],
      "source": [
        "from ultralytics import YOLO\n",
        "import PIL\n",
        "from PIL import Image\n",
        "from IPython.display import display\n",
        "import os\n",
        "import pathlib"
      ]
    },
    {
      "cell_type": "code",
      "execution_count": null,
      "metadata": {
        "execution": {
          "iopub.execute_input": "2024-04-24T06:41:59.267237Z",
          "iopub.status.busy": "2024-04-24T06:41:59.266439Z",
          "iopub.status.idle": "2024-04-24T06:42:00.213735Z",
          "shell.execute_reply": "2024-04-24T06:42:00.212389Z",
          "shell.execute_reply.started": "2024-04-24T06:41:59.267197Z"
        },
        "id": "bHlHYkBMFsBD",
        "trusted": true
      },
      "outputs": [],
      "source": [
        "model = YOLO(\"yolov8m.pt\")"
      ]
    },
    {
      "cell_type": "code",
      "execution_count": null,
      "metadata": {
        "execution": {
          "iopub.execute_input": "2024-04-24T06:42:00.215619Z",
          "iopub.status.busy": "2024-04-24T06:42:00.215252Z",
          "iopub.status.idle": "2024-04-24T06:42:03.443351Z",
          "shell.execute_reply": "2024-04-24T06:42:03.442081Z",
          "shell.execute_reply.started": "2024-04-24T06:42:00.215587Z"
        },
        "id": "Z7baA3CRFsBD",
        "trusted": true
      },
      "outputs": [],
      "source": [
        "results=model.predict(source=\"/kaggle/input/self-driving-cars/images/1478019956680248165.jpg\",\n",
        "              save=True, conf=0.2,iou=0.5)"
      ]
    },
    {
      "cell_type": "code",
      "execution_count": null,
      "metadata": {
        "execution": {
          "iopub.execute_input": "2024-04-24T06:42:03.445191Z",
          "iopub.status.busy": "2024-04-24T06:42:03.444822Z",
          "iopub.status.idle": "2024-04-24T06:42:03.452138Z",
          "shell.execute_reply": "2024-04-24T06:42:03.450792Z",
          "shell.execute_reply.started": "2024-04-24T06:42:03.445160Z"
        },
        "id": "QYMtsePFFsBD",
        "trusted": true
      },
      "outputs": [],
      "source": [
        "result = results[0]\n",
        "box = result.boxes[0]"
      ]
    },
    {
      "cell_type": "code",
      "execution_count": null,
      "metadata": {
        "execution": {
          "iopub.execute_input": "2024-04-24T06:42:03.454609Z",
          "iopub.status.busy": "2024-04-24T06:42:03.454126Z",
          "iopub.status.idle": "2024-04-24T06:42:03.467246Z",
          "shell.execute_reply": "2024-04-24T06:42:03.465990Z",
          "shell.execute_reply.started": "2024-04-24T06:42:03.454563Z"
        },
        "id": "kpXNtRp-FsBD",
        "trusted": true
      },
      "outputs": [],
      "source": [
        "for result in results:\n",
        "    boxes = result.boxes  # Boxes object for bbox outputs\n",
        "    masks = result.masks  # Masks object for segmentation masks outputs\n",
        "    probs = result.probs  # Class probabilities for classification outputs"
      ]
    },
    {
      "cell_type": "code",
      "execution_count": null,
      "metadata": {
        "execution": {
          "iopub.execute_input": "2024-04-24T06:42:03.469086Z",
          "iopub.status.busy": "2024-04-24T06:42:03.468635Z",
          "iopub.status.idle": "2024-04-24T06:42:03.486292Z",
          "shell.execute_reply": "2024-04-24T06:42:03.484785Z",
          "shell.execute_reply.started": "2024-04-24T06:42:03.469038Z"
        },
        "id": "t4N4t9qJFsBD",
        "trusted": true
      },
      "outputs": [],
      "source": [
        "cords = box.xyxy[0].tolist()\n",
        "class_id = box.cls[0].item()\n",
        "conf = box.conf[0].item()\n",
        "print(\"Object type:\", class_id)\n",
        "print(\"Coordinates:\", cords)\n",
        "print(\"Probability:\", conf)"
      ]
    },
    {
      "cell_type": "code",
      "execution_count": null,
      "metadata": {
        "execution": {
          "iopub.execute_input": "2024-04-24T06:42:03.488263Z",
          "iopub.status.busy": "2024-04-24T06:42:03.487870Z",
          "iopub.status.idle": "2024-04-24T06:42:03.508730Z",
          "shell.execute_reply": "2024-04-24T06:42:03.507321Z",
          "shell.execute_reply.started": "2024-04-24T06:42:03.488229Z"
        },
        "id": "myl8e_SeFsBD",
        "trusted": true
      },
      "outputs": [],
      "source": [
        "for box in result.boxes:\n",
        "    class_id = result.names[box.cls[0].item()]\n",
        "    cords = box.xyxy[0].tolist()\n",
        "    cords = [round(x) for x in cords]\n",
        "    conf = round(box.conf[0].item(), 2)\n",
        "    print(\"Object type:\", class_id)\n",
        "    print(\"Coordinates:\", cords)\n",
        "    print(\"Probability:\", conf)\n",
        "    print(\"---\")"
      ]
    },
    {
      "cell_type": "code",
      "execution_count": null,
      "metadata": {
        "execution": {
          "iopub.execute_input": "2024-04-24T06:42:03.514509Z",
          "iopub.status.busy": "2024-04-24T06:42:03.514093Z",
          "iopub.status.idle": "2024-04-24T06:42:04.107270Z",
          "shell.execute_reply": "2024-04-24T06:42:04.106094Z",
          "shell.execute_reply.started": "2024-04-24T06:42:03.514476Z"
        },
        "id": "5OjxBrdgFsBD",
        "trusted": true
      },
      "outputs": [],
      "source": [
        "results1 = model.predict(source=\"/kaggle/input/self-driving-cars/images/1478020211690815798.jpg\",\n",
        "              save=True, conf=0.2,iou=0.5)\n",
        "\n",
        "Results = results1[0]"
      ]
    },
    {
      "cell_type": "code",
      "execution_count": null,
      "metadata": {
        "execution": {
          "iopub.execute_input": "2024-04-24T06:42:04.109341Z",
          "iopub.status.busy": "2024-04-24T06:42:04.108874Z",
          "iopub.status.idle": "2024-04-24T06:42:04.176553Z",
          "shell.execute_reply": "2024-04-24T06:42:04.174331Z",
          "shell.execute_reply.started": "2024-04-24T06:42:04.109296Z"
        },
        "id": "iAiUWYawFsBD",
        "trusted": true
      },
      "outputs": [],
      "source": [
        "# Plotting results\n",
        "plot = results1[0].plot()\n",
        "plot = cv2.cvtColor(plot, cv2.COLOR_BGR2RGB)\n",
        "display(Image.fromarray(plot))"
      ]
    }
  ],
  "metadata": {
    "colab": {
      "provenance": []
    },
    "kaggle": {
      "accelerator": "none",
      "dataSources": [
        {
          "datasetId": 786319,
          "sourceId": 2903151,
          "sourceType": "datasetVersion"
        }
      ],
      "dockerImageVersionId": 30527,
      "isGpuEnabled": false,
      "isInternetEnabled": true,
      "language": "python",
      "sourceType": "notebook"
    },
    "kernelspec": {
      "display_name": "Python 3",
      "language": "python",
      "name": "python3"
    },
    "language_info": {
      "codemirror_mode": {
        "name": "ipython",
        "version": 3
      },
      "file_extension": ".py",
      "mimetype": "text/x-python",
      "name": "python",
      "nbconvert_exporter": "python",
      "pygments_lexer": "ipython3",
      "version": "3.11.6"
    }
  },
  "nbformat": 4,
  "nbformat_minor": 0
}
